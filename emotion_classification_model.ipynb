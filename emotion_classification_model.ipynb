{
 "cells": [
  {
   "metadata": {
    "ExecuteTime": {
     "end_time": "2025-05-17T20:39:42.008150Z",
     "start_time": "2025-05-17T20:39:42.001322Z"
    }
   },
   "cell_type": "code",
   "source": [
    "import pandas as pd\n",
    "import numpy as np\n",
    "from sklearn.model_selection import train_test_split\n",
    "from sklearn.feature_extraction.text import TfidfVectorizer\n",
    "from sklearn.pipeline import Pipeline\n",
    "from sklearn.linear_model import LogisticRegression\n",
    "from sklearn.metrics import classification_report, confusion_matrix\n",
    "import seaborn as sns\n",
    "import matplotlib.pyplot as plt"
   ],
   "id": "9d88e4f54420aeb6",
   "outputs": [],
   "execution_count": 23
  },
  {
   "metadata": {
    "ExecuteTime": {
     "end_time": "2025-05-17T20:39:42.357016Z",
     "start_time": "2025-05-17T20:39:42.029409Z"
    }
   },
   "cell_type": "code",
   "source": [
    "train_df = pd.read_csv('train_preprocessed.csv')\n",
    "test_df = pd.read_csv('test_preprocessed.csv')"
   ],
   "id": "85755d33d2d5717d",
   "outputs": [],
   "execution_count": 24
  },
  {
   "metadata": {
    "ExecuteTime": {
     "end_time": "2025-05-17T20:39:42.368345Z",
     "start_time": "2025-05-17T20:39:42.365396Z"
    }
   },
   "cell_type": "code",
   "source": "train_df.head()",
   "id": "ca2c2faafc13998",
   "outputs": [
    {
     "data": {
      "text/plain": [
       "                                      processed_text  label emotion\n",
       "0                   feel intelligent insightful well      1     joy\n",
       "1       like tea lot think reason want feel artistic      1     joy\n",
       "2    feel poe tortured existence gained deep insight      3   anger\n",
       "3        feel intelligent really prefer clear answer      1     joy\n",
       "4  remember small child feeling frightened store ...      4    fear"
      ],
      "text/html": [
       "<div>\n",
       "<style scoped>\n",
       "    .dataframe tbody tr th:only-of-type {\n",
       "        vertical-align: middle;\n",
       "    }\n",
       "\n",
       "    .dataframe tbody tr th {\n",
       "        vertical-align: top;\n",
       "    }\n",
       "\n",
       "    .dataframe thead th {\n",
       "        text-align: right;\n",
       "    }\n",
       "</style>\n",
       "<table border=\"1\" class=\"dataframe\">\n",
       "  <thead>\n",
       "    <tr style=\"text-align: right;\">\n",
       "      <th></th>\n",
       "      <th>processed_text</th>\n",
       "      <th>label</th>\n",
       "      <th>emotion</th>\n",
       "    </tr>\n",
       "  </thead>\n",
       "  <tbody>\n",
       "    <tr>\n",
       "      <th>0</th>\n",
       "      <td>feel intelligent insightful well</td>\n",
       "      <td>1</td>\n",
       "      <td>joy</td>\n",
       "    </tr>\n",
       "    <tr>\n",
       "      <th>1</th>\n",
       "      <td>like tea lot think reason want feel artistic</td>\n",
       "      <td>1</td>\n",
       "      <td>joy</td>\n",
       "    </tr>\n",
       "    <tr>\n",
       "      <th>2</th>\n",
       "      <td>feel poe tortured existence gained deep insight</td>\n",
       "      <td>3</td>\n",
       "      <td>anger</td>\n",
       "    </tr>\n",
       "    <tr>\n",
       "      <th>3</th>\n",
       "      <td>feel intelligent really prefer clear answer</td>\n",
       "      <td>1</td>\n",
       "      <td>joy</td>\n",
       "    </tr>\n",
       "    <tr>\n",
       "      <th>4</th>\n",
       "      <td>remember small child feeling frightened store ...</td>\n",
       "      <td>4</td>\n",
       "      <td>fear</td>\n",
       "    </tr>\n",
       "  </tbody>\n",
       "</table>\n",
       "</div>"
      ]
     },
     "execution_count": 25,
     "metadata": {},
     "output_type": "execute_result"
    }
   ],
   "execution_count": 25
  },
  {
   "metadata": {
    "ExecuteTime": {
     "end_time": "2025-05-17T20:39:42.394049Z",
     "start_time": "2025-05-17T20:39:42.391076Z"
    }
   },
   "cell_type": "code",
   "source": "test_df.head()",
   "id": "db911b41fff9fef6",
   "outputs": [
    {
     "data": {
      "text/plain": [
       "                                      processed_text  label emotion\n",
       "0  feel blessed able spend one semester teaching ...      1     joy\n",
       "1  really hope good condition make hike left knee...      2    love\n",
       "2  bet really good reason ever feeling doubtful t...      4    fear\n",
       "3  sure normal pageant girl feeling sweet part bi...      1     joy\n",
       "4                    find stuff feel doubtful future      4    fear"
      ],
      "text/html": [
       "<div>\n",
       "<style scoped>\n",
       "    .dataframe tbody tr th:only-of-type {\n",
       "        vertical-align: middle;\n",
       "    }\n",
       "\n",
       "    .dataframe tbody tr th {\n",
       "        vertical-align: top;\n",
       "    }\n",
       "\n",
       "    .dataframe thead th {\n",
       "        text-align: right;\n",
       "    }\n",
       "</style>\n",
       "<table border=\"1\" class=\"dataframe\">\n",
       "  <thead>\n",
       "    <tr style=\"text-align: right;\">\n",
       "      <th></th>\n",
       "      <th>processed_text</th>\n",
       "      <th>label</th>\n",
       "      <th>emotion</th>\n",
       "    </tr>\n",
       "  </thead>\n",
       "  <tbody>\n",
       "    <tr>\n",
       "      <th>0</th>\n",
       "      <td>feel blessed able spend one semester teaching ...</td>\n",
       "      <td>1</td>\n",
       "      <td>joy</td>\n",
       "    </tr>\n",
       "    <tr>\n",
       "      <th>1</th>\n",
       "      <td>really hope good condition make hike left knee...</td>\n",
       "      <td>2</td>\n",
       "      <td>love</td>\n",
       "    </tr>\n",
       "    <tr>\n",
       "      <th>2</th>\n",
       "      <td>bet really good reason ever feeling doubtful t...</td>\n",
       "      <td>4</td>\n",
       "      <td>fear</td>\n",
       "    </tr>\n",
       "    <tr>\n",
       "      <th>3</th>\n",
       "      <td>sure normal pageant girl feeling sweet part bi...</td>\n",
       "      <td>1</td>\n",
       "      <td>joy</td>\n",
       "    </tr>\n",
       "    <tr>\n",
       "      <th>4</th>\n",
       "      <td>find stuff feel doubtful future</td>\n",
       "      <td>4</td>\n",
       "      <td>fear</td>\n",
       "    </tr>\n",
       "  </tbody>\n",
       "</table>\n",
       "</div>"
      ]
     },
     "execution_count": 26,
     "metadata": {},
     "output_type": "execute_result"
    }
   ],
   "execution_count": 26
  },
  {
   "metadata": {
    "ExecuteTime": {
     "end_time": "2025-05-17T20:39:42.434078Z",
     "start_time": "2025-05-17T20:39:42.429029Z"
    }
   },
   "cell_type": "code",
   "source": [
    "# Prepare features and target\n",
    "X_train = train_df['processed_text']\n",
    "y_train = train_df['label']\n",
    "X_test = test_df['processed_text']\n",
    "y_test = test_df['label']\n",
    "\n",
    "print(\"Training set size:\", len(X_train))\n",
    "print(\"Test set size:\", len(X_test))"
   ],
   "id": "bf16d050aa36e678",
   "outputs": [
    {
     "name": "stdout",
     "output_type": "stream",
     "text": [
      "Training set size: 333447\n",
      "Test set size: 83362\n"
     ]
    }
   ],
   "execution_count": 27
  },
  {
   "metadata": {
    "ExecuteTime": {
     "end_time": "2025-05-17T20:39:49.757830Z",
     "start_time": "2025-05-17T20:39:42.469613Z"
    }
   },
   "cell_type": "code",
   "source": [
    "# Create pipeline\n",
    "pipeline = Pipeline([\n",
    "    ('tfidf', TfidfVectorizer(max_features=5000)),\n",
    "    ('classifier', LogisticRegression(max_iter=1000, n_jobs=-1))\n",
    "])\n",
    "\n",
    "# Drop any rows with NaN values before training\n",
    "X_train = X_train.dropna()\n",
    "y_train = y_train[X_train.index]\n",
    "\n",
    "# Train the model\n",
    "pipeline.fit(X_train, y_train)\n",
    "\n",
    "# Drop any NaN values from test set before prediction\n",
    "X_test = X_test.dropna()\n",
    "y_test = y_test[X_test.index]\n",
    "\n",
    "# Make predictions \n",
    "y_pred = pipeline.predict(X_test)"
   ],
   "id": "6a1423b8b3569b68",
   "outputs": [],
   "execution_count": 28
  },
  {
   "metadata": {
    "ExecuteTime": {
     "end_time": "2025-05-17T20:39:49.797592Z",
     "start_time": "2025-05-17T20:39:49.765728Z"
    }
   },
   "cell_type": "code",
   "source": [
    "print(\"Classification Report:\")\n",
    "print(classification_report(y_test, y_pred, target_names=['sadness', 'joy', 'love', 'anger', 'fear', 'surprise']))"
   ],
   "id": "248afec4ee576fe8",
   "outputs": [
    {
     "name": "stdout",
     "output_type": "stream",
     "text": [
      "Classification Report:\n",
      "              precision    recall  f1-score   support\n",
      "\n",
      "     sadness       0.94      0.94      0.94     24238\n",
      "         joy       0.92      0.93      0.93     28212\n",
      "        love       0.81      0.77      0.79      6911\n",
      "       anger       0.90      0.90      0.90     11462\n",
      "        fear       0.85      0.85      0.85      9542\n",
      "    surprise       0.77      0.72      0.74      2994\n",
      "\n",
      "    accuracy                           0.90     83359\n",
      "   macro avg       0.87      0.85      0.86     83359\n",
      "weighted avg       0.90      0.90      0.90     83359\n",
      "\n"
     ]
    }
   ],
   "execution_count": 29
  },
  {
   "metadata": {
    "ExecuteTime": {
     "end_time": "2025-05-17T20:39:49.921402Z",
     "start_time": "2025-05-17T20:39:49.804926Z"
    }
   },
   "cell_type": "code",
   "source": [
    "# Create confusion matrix\n",
    "plt.figure(figsize=(10, 8))\n",
    "cm = confusion_matrix(y_test, y_pred)\n",
    "sns.heatmap(cm, annot=True, fmt='d', cmap='Blues',\n",
    "            xticklabels=['sadness', 'joy', 'love', 'anger', 'fear', 'surprise'],\n",
    "            yticklabels=['sadness', 'joy', 'love', 'anger', 'fear', 'surprise'])\n",
    "plt.title('Confusion Matrix')\n",
    "plt.xlabel('Predicted')\n",
    "plt.ylabel('True')\n",
    "plt.tight_layout()\n",
    "plt.show()"
   ],
   "id": "4db8f7817553e0d0",
   "outputs": [
    {
     "data": {
      "text/plain": [
       "<Figure size 1000x800 with 2 Axes>"
      ],
      "image/png": "[encoded data removed]"
     },
     "metadata": {},
     "output_type": "display_data"
    }
   ],
   "execution_count": 30
  },
  {
   "metadata": {
    "ExecuteTime": {
     "end_time": "2025-05-17T20:39:49.933333Z",
     "start_time": "2025-05-17T20:39:49.929556Z"
    }
   },
   "cell_type": "code",
   "source": [
    "def predict_emotion(text, pipeline):\n",
    "    # Mapping for emotion labels\n",
    "    emotion_map = {\n",
    "        0: 'sadness',\n",
    "        1: 'joy',\n",
    "        2: 'love',\n",
    "        3: 'anger',\n",
    "        4: 'fear',\n",
    "        5: 'surprise'\n",
    "    }\n",
    "\n",
    "    # Make prediction\n",
    "    prediction = pipeline.predict([text])[0]\n",
    "\n",
    "    return emotion_map[prediction]\n",
    "\n",
    "# Test the function with some example texts\n",
    "example_texts = [\n",
    "    \"I am so happy today!\",\n",
    "    \"This makes me really angry\",\n",
    "    \"I'm afraid of what might happen\",\n",
    "]\n",
    "\n",
    "print(\"Example predictions:\")\n",
    "for text in example_texts:\n",
    "    emotion = predict_emotion(text, pipeline)\n",
    "    print(f\"Text: {text}\")\n",
    "    print(f\"Predicted emotion: {emotion}\\n\")"
   ],
   "id": "16d1efd6314cdcc3",
   "outputs": [
    {
     "name": "stdout",
     "output_type": "stream",
     "text": [
      "Example predictions:\n",
      "Text: I am so happy today!\n",
      "Predicted emotion: joy\n",
      "\n",
      "Text: This makes me really angry\n",
      "Predicted emotion: anger\n",
      "\n",
      "Text: I'm afraid of what might happen\n",
      "Predicted emotion: fear\n",
      "\n"
     ]
    }
   ],
   "execution_count": 31
  },
  {
   "metadata": {
    "ExecuteTime": {
     "end_time": "2025-05-17T20:39:49.970800Z",
     "start_time": "2025-05-17T20:39:49.942398Z"
    }
   },
   "cell_type": "code",
   "source": [
    "import joblib\n",
    "\n",
    "# Save the trained pipeline\n",
    "joblib.dump(pipeline, 'emotion_classifier_model.joblib')\n",
    "print(\"Model saved successfully!\")"
   ],
   "id": "31b21722a1c23fda",
   "outputs": [
    {
     "name": "stdout",
     "output_type": "stream",
     "text": [
      "Model saved successfully!\n"
     ]
    }
   ],
   "execution_count": 32
  }
 ],
 "metadata": {
  "kernelspec": {
   "display_name": "Python 3",
   "language": "python",
   "name": "python3"
  },
  "language_info": {
   "codemirror_mode": {
    "name": "ipython",
    "version": 2
   },
   "file_extension": ".py",
   "mimetype": "text/x-python",
   "name": "python",
   "nbconvert_exporter": "python",
   "pygments_lexer": "ipython2",
   "version": "2.7.6"
  }
 },
 "nbformat": 4,
 "nbformat_minor": 5
}
